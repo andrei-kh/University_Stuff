{
  "nbformat": 4,
  "nbformat_minor": 0,
  "metadata": {
    "kernelspec": {
      "name": "Python 3.8.5 32-bit",
      "display_name": "Python 3.8.5 32-bit",
      "metadata": {
        "interpreter": {
          "hash": "d2196cea3b6352bc7a231bea6d7a784e3ef3323d6c52f2ba283231d5b0367bec"
        }
      }
    },
    "language_info": {
      "codemirror_mode": {
        "name": "ipython",
        "version": 3
      },
      "file_extension": ".py",
      "mimetype": "text/x-python",
      "name": "python",
      "nbconvert_exporter": "python",
      "pygments_lexer": "ipython3",
      "version": "3.8.5-final"
    },
    "colab": {
      "name": "Копия блокнота \"grsu-kb-python-lab4.ipynb\"",
      "provenance": [],
      "collapsed_sections": []
    }
  },
  "cells": [
    {
      "cell_type": "markdown",
      "metadata": {
        "id": "AgY9WdCbMhEM"
      },
      "source": [
        "# Лабораторная работа 4. Объектно-ориентированное программирование"
      ]
    },
    {
      "cell_type": "markdown",
      "metadata": {
        "id": "R3ikJYzYN5Zt"
      },
      "source": [
        "# Часть 1."
      ]
    },
    {
      "cell_type": "markdown",
      "metadata": {
        "id": "qaIBLRTxMhEO"
      },
      "source": [
        "Распространённым примером для демонстрации деталей реализации пользовательского класса является разработка класса, воплощающего Fraction. Мы уже видели, что Python предоставляет в наше пользование несколько числовых классов. Однако, бывают моменты, когда более подходящим является создание объекта данных лишь “выглядящего как” дробь.\n",
        "\n",
        "Дробь (например, $\\frac{3}{5}$) состоит из двух частей. Верхнее значение, называемое числитель, может быть любым целым числом. Нижнее значение (знаменатель) - любым целым, большим нуля (отрицательные дроби имеют отрицательный числитель). Также для любой дроби можно создать приближение с плавающей запятой. В этом случае мы хотели бы представлять дробь как точное значение.\n",
        "\n",
        "Операции для типа Fraction будут позволять его объектам данных вести себя подобно любым другим числовым значениям. Мы должны быть готовы складывать, вычитать, умножать и делить дроби. Также необходима возможность показывать дроби в их стандартной “слэш”-форме (например, $\\frac{3}{5}$). Все методы дробей должны возвращать результат в своей сокращённой форме таким образом, чтобы, вне зависимости от вида вычислений, в конце мы всегда имели наиболее общепринятую форму.\n",
        "\n",
        "Запишите класс Fraction. Принимайте через конструктор числитель и знаменатель. "
      ]
    },
    {
      "cell_type": "code",
      "metadata": {
        "id": "m1GJappoMhEQ"
      },
      "source": [
        "import math\n",
        "\n",
        "class Fraction:\n",
        "  def __init__(self, numerator, denominator):\n",
        "    self.numerator = numerator\n",
        "    self.denominator = denominator\n",
        "  def __str__(self):\n",
        "    return f'{self.numerator}\\n-\\n{self.denominator}'\n",
        "  def __repr__(self):\n",
        "    return f'{self.numerator}\\n-\\n{self.denominator}'\n",
        "  def __add__(self, other):\n",
        "    if not isinstance(other, Fraction):\n",
        "      return ValueError\n",
        "    return Fraction(self.numerator * other.denominator + other.numerator * self.denominator, self.denominator * other.denominator)\n",
        "  def __sub__(self, other):\n",
        "    if not isinstance(other, Fraction):\n",
        "      return ValueError\n",
        "    return Fraction(self.numerator * other.denominator - other.numerator * self.denominator, self.denominator * other.denominator)\n",
        "  def __mul__(self, other):\n",
        "    if not isinstance(other, Fraction):\n",
        "      return ValueError\n",
        "    return Fraction(self.numerator * other.numerator, self.denominator * other.denominator)\n",
        "  def __truediv__(self, other):\n",
        "    if not isinstance(other, Fraction):\n",
        "      return ValueError\n",
        "    return Fraction(self.numerator * other.denominator, self.denominator * other.numerator)\n",
        "  def __gt__(self, other):\n",
        "    red_self = self.__red()\n",
        "    red_other = other.__red()\n",
        "    return red_self.numerator / red_self.denominator > red_other.numerator / red_other.denominator\n",
        "  def __lt__(self, other):\n",
        "    red_self = self.__red()\n",
        "    red_other = other.__red()\n",
        "    return red_self.numerator / red_self.denominator < red_other.numerator / red_other.denominator\n",
        "  def __eq__(self, other):\n",
        "    red_self = self.__red()\n",
        "    red_other = other.__red()\n",
        "    return red_self.numerator == red_other.numerator and red_self.denominator == red_other.denominator\n",
        "  def __red(self):\n",
        "    gcd = math.gcd(self.numerator, self.denominator)\n",
        "    return Fraction(self.numerator // gcd, self.denominator // gcd)\n",
        "  def reduction(self):\n",
        "    gcd = math.gcd(self.numerator, self.denominator)\n",
        "    self.numerator //= gcd\n",
        "    self.denominator //= gcd\n",
        "  def show(self):\n",
        "    print(self)"
      ],
      "execution_count": null,
      "outputs": []
    },
    {
      "cell_type": "markdown",
      "metadata": {
        "id": "E_3Is558MhEY"
      },
      "source": [
        "Создай сущность класса Fraction. "
      ]
    },
    {
      "cell_type": "code",
      "metadata": {
        "id": "yRUOsG0jMhEZ"
      },
      "source": [
        "fract = Fraction(1, 2)"
      ],
      "execution_count": null,
      "outputs": []
    },
    {
      "cell_type": "markdown",
      "metadata": {
        "id": "VwZyvw_PMhEe"
      },
      "source": [
        "Вызовите print от сущности. "
      ]
    },
    {
      "cell_type": "code",
      "metadata": {
        "id": "rF4aF16CMhEf",
        "outputId": "5d1d1626-d7a6-4da7-b0b9-a519af01525e",
        "colab": {
          "base_uri": "https://localhost:8080/"
        }
      },
      "source": [
        "print(fract)"
      ],
      "execution_count": null,
      "outputs": [
        {
          "output_type": "stream",
          "text": [
            "<__main__.Fraction object at 0x7f6d8aa72d30>\n"
          ],
          "name": "stdout"
        }
      ]
    },
    {
      "cell_type": "markdown",
      "metadata": {
        "id": "TqPV15ViMhEl"
      },
      "source": [
        " Функция print требует, чтобы объект конвертировал самого себя в строку, которая будет записана на выходе."
      ]
    },
    {
      "cell_type": "code",
      "metadata": {
        "id": "2o0OkNn-MhEm",
        "outputId": "7fa150c0-8988-4280-b9d4-b0a4f2e125ba",
        "colab": {
          "base_uri": "https://localhost:8080/"
        }
      },
      "source": [
        "print(str(fract))"
      ],
      "execution_count": null,
      "outputs": [
        {
          "output_type": "stream",
          "text": [
            "1\n",
            "-\n",
            "2\n"
          ],
          "name": "stdout"
        }
      ]
    },
    {
      "cell_type": "markdown",
      "metadata": {
        "id": "_Rj4FQEUMhEr"
      },
      "source": [
        "Определите метод под названием show, который позволит объекту Fraction печать самого себя как строку. Продемострируйете. "
      ]
    },
    {
      "cell_type": "code",
      "metadata": {
        "id": "ifpo7YXxMhEt",
        "outputId": "8a7aeff4-30cb-47b5-b418-bad00a01b514",
        "colab": {
          "base_uri": "https://localhost:8080/"
        }
      },
      "source": [
        "fract.show()"
      ],
      "execution_count": null,
      "outputs": [
        {
          "output_type": "stream",
          "text": [
            "1\n",
            "-\n",
            "2\n"
          ],
          "name": "stdout"
        }
      ]
    },
    {
      "cell_type": "markdown",
      "metadata": {
        "id": "JCRUUdMOMhEw"
      },
      "source": [
        "Теперь тоже самое только стандартными методами. Продемострируйте, что можно дробь выводить через print."
      ]
    },
    {
      "cell_type": "code",
      "metadata": {
        "id": "7eT_ISUdMhEx",
        "outputId": "da6261bd-7e3c-44a0-b5b5-dce3596140c0",
        "colab": {
          "base_uri": "https://localhost:8080/"
        }
      },
      "source": [
        "print(fract)"
      ],
      "execution_count": null,
      "outputs": [
        {
          "output_type": "stream",
          "text": [
            "1\n",
            "-\n",
            "2\n"
          ],
          "name": "stdout"
        }
      ]
    },
    {
      "cell_type": "markdown",
      "metadata": {
        "id": "FvGGUwcFMhE1"
      },
      "source": [
        "Мы можем перегрузить множество других методов для нового класса Fraction. Одними из наиболее важных из них являются основные арифметические операции. Создайте два объекта Fraction, а затем сложить их вместе, используя стандартную запись “+”"
      ]
    },
    {
      "cell_type": "code",
      "metadata": {
        "id": "s_eWDW6cMhE1",
        "outputId": "da97e524-273c-463b-c8c6-62d0a0f2d6d8",
        "colab": {
          "base_uri": "https://localhost:8080/",
          "height": 195
        }
      },
      "source": [
        "fract1 = Fraction(3, 4) \n",
        "fract2 = Fraction(5, 3)\n",
        "print(fract1 + fract2)"
      ],
      "execution_count": null,
      "outputs": [
        {
          "output_type": "error",
          "ename": "TypeError",
          "evalue": "ignored",
          "traceback": [
            "\u001b[0;31m---------------------------------------------------------------------------\u001b[0m",
            "\u001b[0;31mTypeError\u001b[0m                                 Traceback (most recent call last)",
            "\u001b[0;32m<ipython-input-2-c5dd86e30e82>\u001b[0m in \u001b[0;36m<module>\u001b[0;34m()\u001b[0m\n\u001b[1;32m      1\u001b[0m \u001b[0mfract1\u001b[0m \u001b[0;34m=\u001b[0m \u001b[0mFraction\u001b[0m\u001b[0;34m(\u001b[0m\u001b[0;36m3\u001b[0m\u001b[0;34m,\u001b[0m \u001b[0;36m4\u001b[0m\u001b[0;34m)\u001b[0m\u001b[0;34m\u001b[0m\u001b[0;34m\u001b[0m\u001b[0m\n\u001b[1;32m      2\u001b[0m \u001b[0mfract2\u001b[0m \u001b[0;34m=\u001b[0m \u001b[0mFraction\u001b[0m\u001b[0;34m(\u001b[0m\u001b[0;36m5\u001b[0m\u001b[0;34m,\u001b[0m \u001b[0;36m3\u001b[0m\u001b[0;34m)\u001b[0m\u001b[0;34m\u001b[0m\u001b[0;34m\u001b[0m\u001b[0m\n\u001b[0;32m----> 3\u001b[0;31m \u001b[0mprint\u001b[0m\u001b[0;34m(\u001b[0m\u001b[0mfract1\u001b[0m \u001b[0;34m+\u001b[0m \u001b[0mfract2\u001b[0m\u001b[0;34m)\u001b[0m\u001b[0;34m\u001b[0m\u001b[0;34m\u001b[0m\u001b[0m\n\u001b[0m",
            "\u001b[0;31mTypeError\u001b[0m: unsupported operand type(s) for +: 'Fraction' and 'Fraction'"
          ]
        }
      ]
    },
    {
      "cell_type": "markdown",
      "metadata": {
        "id": "pq4zJXCrMhE5"
      },
      "source": [
        "Если вы внимательнее посмотрите на сообщение об ошибке, то заметите - загвоздка в том, что оператор “+” не понимает операндов Fraction. Перегрузите сложение."
      ]
    },
    {
      "cell_type": "code",
      "metadata": {
        "id": "23u76A-TMhE5",
        "outputId": "5d113157-7a36-4c27-bd97-2a2d6db6fb39",
        "colab": {
          "base_uri": "https://localhost:8080/"
        }
      },
      "source": [
        "fract1 = Fraction(3, 4) \n",
        "fract2 = Fraction(5, 3)\n",
        "print(fract1 + fract2)"
      ],
      "execution_count": null,
      "outputs": [
        {
          "output_type": "stream",
          "text": [
            "29\n",
            "-\n",
            "12\n"
          ],
          "name": "stdout"
        }
      ]
    },
    {
      "cell_type": "markdown",
      "metadata": {
        "id": "EFUWr2hBMhE8"
      },
      "source": [
        "Метод сложения работает, как мы того и хотели, но одну вещь можно было бы улучшить. Дробь не сокращается. Реализуйте метод для сокращения дроби. "
      ]
    },
    {
      "cell_type": "code",
      "metadata": {
        "id": "L5MS9t2jMhE9",
        "outputId": "f1767b6d-6fa0-4d70-f0be-1d484903749a",
        "colab": {
          "base_uri": "https://localhost:8080/"
        }
      },
      "source": [
        "fract1 = Fraction(12, 15)\n",
        "print(fract1)\n",
        "print()\n",
        "fract1.reduction()\n",
        "print(fract1)"
      ],
      "execution_count": null,
      "outputs": [
        {
          "output_type": "stream",
          "text": [
            "12\n",
            "-\n",
            "15\n",
            "\n",
            "4\n",
            "-\n",
            "5\n"
          ],
          "name": "stdout"
        }
      ]
    },
    {
      "cell_type": "markdown",
      "metadata": {
        "id": "sH3BI1TCMhFC"
      },
      "source": [
        "Предположим, что у нас есть два объекта Fraction f1 и f2. f1 == f2 будет истиной, если они ссылаются на один и тот же объект. Два разных объекта с одинаковыми числителями и знаменателями в этой реализации равны не будут. Это называется поверхностным равенством. Создайте глубокое равенство - по одинаковому значению, а не по одинаковой ссылке - перегрузив метод __eq__. Это ещё один стандартный метод, доступный в любом классе. Он сравнивает два объекта и возвращает True, если их значения равны, или False в противном случае."
      ]
    },
    {
      "cell_type": "code",
      "metadata": {
        "id": "jqLu6aIhMhFD",
        "outputId": "f4d16052-6943-4f4f-db51-18561d5986ef",
        "colab": {
          "base_uri": "https://localhost:8080/"
        }
      },
      "source": [
        "f1 = Fraction(44, 13)\n",
        "f2 = Fraction(88, 26)\n",
        "f3 = Fraction(88, 27)\n",
        "print(f1 == f2)\n",
        "print(f1 == f3)"
      ],
      "execution_count": null,
      "outputs": [
        {
          "output_type": "stream",
          "text": [
            "True\n",
            "False\n"
          ],
          "name": "stdout"
        }
      ]
    },
    {
      "cell_type": "markdown",
      "metadata": {
        "id": "M8HTomPUMhFG"
      },
      "source": [
        "Напишите реализацию операций *, / и -. Продемонстрируйте. "
      ]
    },
    {
      "cell_type": "code",
      "metadata": {
        "id": "g-hYAWsWMhFH",
        "outputId": "7d1a6ada-0508-4b4e-b6b2-06a02d0157e8",
        "colab": {
          "base_uri": "https://localhost:8080/"
        }
      },
      "source": [
        "f1 = Fraction(1, 2)\n",
        "f2 = Fraction(5, 7)\n",
        "print(f1 * f2)\n",
        "print()\n",
        "print(f1 / f2)\n",
        "print()\n",
        "print(f1 - f2)"
      ],
      "execution_count": null,
      "outputs": [
        {
          "output_type": "stream",
          "text": [
            "5\n",
            "-\n",
            "14\n",
            "\n",
            "7\n",
            "-\n",
            "10\n",
            "\n",
            "-3\n",
            "-\n",
            "14\n"
          ],
          "name": "stdout"
        }
      ]
    },
    {
      "cell_type": "markdown",
      "metadata": {
        "id": "gTWnW0uOMhFK"
      },
      "source": [
        "Также реализуйте операторы сравнения > и <."
      ]
    },
    {
      "cell_type": "code",
      "metadata": {
        "id": "FSPX3n-7MhFL",
        "outputId": "dfcb1f27-5777-429b-c38c-e064cdc70172",
        "colab": {
          "base_uri": "https://localhost:8080/"
        }
      },
      "source": [
        "f1 = Fraction(1, 2)\n",
        "f2 = Fraction(3, 5)\n",
        "f3 = Fraction(3, 2)\n",
        "print(f1 < f2)\n",
        "print(f1 > f2)\n",
        "print(f3 > f1)\n",
        "print(f3 < f1)\n",
        "print(f2 < f3)\n",
        "print(f2 > f3)"
      ],
      "execution_count": null,
      "outputs": [
        {
          "output_type": "stream",
          "text": [
            "True\n",
            "False\n",
            "True\n",
            "False\n",
            "True\n",
            "False\n"
          ],
          "name": "stdout"
        }
      ]
    },
    {
      "cell_type": "markdown",
      "metadata": {
        "id": "xsRMBEzSMhFO"
      },
      "source": [
        "# ЧАСТЬ 2"
      ]
    },
    {
      "cell_type": "markdown",
      "metadata": {
        "id": "8PP0LJpHMhFP"
      },
      "source": [
        "Вам на вход приходит последовательность целых чисел. Вам надо обрабатывать ее следующим образом: выводить на экран сумму первых пяти чисел этой последовательности, затем следующих 5 итд\n",
        "\n",
        "Но последовательность не дается вам сразу целиком. С течением времени к вам поступают её последовательные части. Например, сначала первые три элемента, потом следующие шесть, потом следующие два и т. д.\n",
        "\n",
        "Реализуйте класс Buffer, который будет накапливать в себе элементы последовательности и выводить сумму пятерок последовательных элементов по мере их накопления.\n",
        "\n",
        "Одним из требований к классу является то, что он не должен хранить в себе больше элементов, чем ему действительно необходимо, т. е. он не должен хранить элементы, которые уже вошли в пятерку, для которой была выведена сумма.\n",
        "\n",
        "Класс должен иметь следующий вид"
      ]
    },
    {
      "cell_type": "code",
      "metadata": {
        "id": "Nv2oCTswMhFP"
      },
      "source": [
        "class Buffer:\n",
        "    def __init__(self):\n",
        "        # конструктор без аргументов\n",
        "        pass\n",
        "    \n",
        "    def add(self, *a):\n",
        "        # добавить следующую часть последовательности\n",
        "        pass\n",
        "\n",
        "    def get_current_part(self):\n",
        "        # вернуть сохраненные в текущий момент элементы последовательности в порядке, в котором они были\n",
        "        # добавлены\n",
        "        pass"
      ],
      "execution_count": null,
      "outputs": []
    },
    {
      "cell_type": "code",
      "metadata": {
        "id": "E-3MVt0DN2jS",
        "outputId": "f277c572-e9a9-423e-ed22-075d4b6ae805",
        "colab": {
          "base_uri": "https://localhost:8080/"
        }
      },
      "source": [
        "class Buffer:\n",
        "    def __init__(self):\n",
        "        self.values = []\n",
        "    \n",
        "    def add(self, *a):\n",
        "        for t in a:\n",
        "          self.values += t\n",
        "        if len(self.values) >= 5:\n",
        "            print(sum(self.values[:5]))\n",
        "            del self.values[:5]\n",
        "\n",
        "    def get_current_part(self):\n",
        "        return self.values\n",
        "buff = Buffer()\n",
        "buff.add([1, 2, 3, 4])\n",
        "buff.add([5, 1, 3, 4])\n",
        "buff.add([2, 5])\n",
        "print(buff.get_current_part())"
      ],
      "execution_count": 1,
      "outputs": [
        {
          "output_type": "stream",
          "name": "stdout",
          "text": [
            "15\n15\n[]\n"
          ]
        }
      ]
    },
    {
      "cell_type": "markdown",
      "metadata": {
        "id": "z5fhWUbQM6rx"
      },
      "source": [
        "# ЧАСТЬ 3"
      ]
    },
    {
      "cell_type": "markdown",
      "metadata": {
        "id": "NZKoJuw3NW3o"
      },
      "source": [
        "Напишите классы «Книга» (с обязательными полями: название, автор, код),«Библиотека» (с обязательными полями: адрес, номер) и корректно свяжите их. Код книги должен назначаться  автоматически при добавлении книги в библиотеку (используйте для этого статический член класса).\n",
        "            Если в конструкторе книги указывается в параметре пустое название, необходимо сгенерировать исключение (например, ValueError). Книга должна реализовывать интерфейс Taggable с методом tag(), который создает на основе строки набор тегов (разбивает строку на слова и возвращает только те, которые начинаются с большой буквы). \n",
        "            Например, tag() для книги с названием ‘War and Peace’ вернет список тегов [‘War’, ‘Peace’]"
      ]
    },
    {
      "cell_type": "code",
      "metadata": {
        "id": "pkHZfFDKM7fj"
      },
      "source": [
        "import random\n",
        "\n",
        "MAX_BOOK_CODE = 10000\n",
        "\n",
        "\n",
        "class Book:\n",
        "    def __init__(self, book_name: str = None, author: str = None):\n",
        "        if book_name == None:\n",
        "            raise ValueError\n",
        "        self.book_name = book_name\n",
        "        self.author = author\n",
        "        self.code = None\n",
        "\n",
        "    def __repr__(self):\n",
        "        return self.book_name + ' ' + self.author\n",
        "\n",
        "    def tag(self):\n",
        "        return [word for word in self.book_name.split() if word[0].isupper()]\n",
        "\n",
        "\n",
        "class Library:\n",
        "    book_codes = []\n",
        "\n",
        "    def __init__(self, address: str, phone_number: str, listofbooks):\n",
        "        self.address = address\n",
        "        self.phone_number = phone_number\n",
        "        self.availiblebooks = listofbooks\n",
        "\n",
        "    def add(self, book):\n",
        "        book.code = Library.generate_book_code()\n",
        "        self.availiblebooks.append(book)\n",
        "\n",
        "    @staticmethod\n",
        "    def generate_book_code():\n",
        "        code = random.randint(1, MAX_BOOK_CODE)\n",
        "        while code in Library.book_codes:\n",
        "            code = random.randint(1, MAX_BOOK_CODE)\n",
        "        Library.book_codes.append(code)\n",
        "        return code\n",
        "\n",
        "\n",
        "lib = Library('St. Pushkina h. Kolotushkina 4', '+375291111111', [])\n",
        "lib.add(Book('Harry Potter and the Deathly Hallows', 'J.K. Rowling'))\n",
        "lib.add(Book('Life of Pi', 'Yann Martel'))\n",
        "lib.add(Book('Lord of the Rings', 'J. R. R. Tolkien'))\n",
        "print(lib.availiblebooks)\n",
        "print(lib.book_codes)\n",
        "print(lib.availiblebooks[0].tag())\n",
        "Book()"
      ],
      "execution_count": 1,
      "outputs": [
        {
          "output_type": "stream",
          "name": "stdout",
          "text": [
            "[Harry Potter and the Deathly Hallows J.K. Rowling, Life of Pi Yann Martel, Lord of the Rings J. R. R. Tolkien]\n[4614, 2615, 7896]\n['Harry', 'Potter', 'Deathly', 'Hallows']\n"
          ]
        },
        {
          "output_type": "error",
          "ename": "ValueError",
          "evalue": "",
          "traceback": [
            "\u001b[1;31m---------------------------------------------------------------------------\u001b[0m",
            "\u001b[1;31mValueError\u001b[0m                                Traceback (most recent call last)",
            "\u001b[1;32m<ipython-input-1-1870130489ec>\u001b[0m in \u001b[0;36m<module>\u001b[1;34m\u001b[0m\n\u001b[0;32m     50\u001b[0m \u001b[0mprint\u001b[0m\u001b[1;33m(\u001b[0m\u001b[0mlib\u001b[0m\u001b[1;33m.\u001b[0m\u001b[0mbook_codes\u001b[0m\u001b[1;33m)\u001b[0m\u001b[1;33m\u001b[0m\u001b[1;33m\u001b[0m\u001b[0m\n\u001b[0;32m     51\u001b[0m \u001b[0mprint\u001b[0m\u001b[1;33m(\u001b[0m\u001b[0mlib\u001b[0m\u001b[1;33m.\u001b[0m\u001b[0mavailiblebooks\u001b[0m\u001b[1;33m[\u001b[0m\u001b[1;36m0\u001b[0m\u001b[1;33m]\u001b[0m\u001b[1;33m.\u001b[0m\u001b[0mtag\u001b[0m\u001b[1;33m(\u001b[0m\u001b[1;33m)\u001b[0m\u001b[1;33m)\u001b[0m\u001b[1;33m\u001b[0m\u001b[1;33m\u001b[0m\u001b[0m\n\u001b[1;32m---> 52\u001b[1;33m \u001b[0mBook\u001b[0m\u001b[1;33m(\u001b[0m\u001b[1;33m)\u001b[0m\u001b[1;33m\u001b[0m\u001b[1;33m\u001b[0m\u001b[0m\n\u001b[0m",
            "\u001b[1;32m<ipython-input-1-1870130489ec>\u001b[0m in \u001b[0;36m__init__\u001b[1;34m(self, book_name, author)\u001b[0m\n\u001b[0;32m      7\u001b[0m     \u001b[1;32mdef\u001b[0m \u001b[0m__init__\u001b[0m\u001b[1;33m(\u001b[0m\u001b[0mself\u001b[0m\u001b[1;33m,\u001b[0m \u001b[0mbook_name\u001b[0m\u001b[1;33m:\u001b[0m \u001b[0mstr\u001b[0m \u001b[1;33m=\u001b[0m \u001b[1;32mNone\u001b[0m\u001b[1;33m,\u001b[0m \u001b[0mauthor\u001b[0m\u001b[1;33m:\u001b[0m \u001b[0mstr\u001b[0m \u001b[1;33m=\u001b[0m \u001b[1;32mNone\u001b[0m\u001b[1;33m)\u001b[0m\u001b[1;33m:\u001b[0m\u001b[1;33m\u001b[0m\u001b[1;33m\u001b[0m\u001b[0m\n\u001b[0;32m      8\u001b[0m         \u001b[1;32mif\u001b[0m \u001b[0mbook_name\u001b[0m \u001b[1;33m==\u001b[0m \u001b[1;32mNone\u001b[0m\u001b[1;33m:\u001b[0m\u001b[1;33m\u001b[0m\u001b[1;33m\u001b[0m\u001b[0m\n\u001b[1;32m----> 9\u001b[1;33m             \u001b[1;32mraise\u001b[0m \u001b[0mValueError\u001b[0m\u001b[1;33m\u001b[0m\u001b[1;33m\u001b[0m\u001b[0m\n\u001b[0m\u001b[0;32m     10\u001b[0m         \u001b[0mself\u001b[0m\u001b[1;33m.\u001b[0m\u001b[0mbook_name\u001b[0m \u001b[1;33m=\u001b[0m \u001b[0mbook_name\u001b[0m\u001b[1;33m\u001b[0m\u001b[1;33m\u001b[0m\u001b[0m\n\u001b[0;32m     11\u001b[0m         \u001b[0mself\u001b[0m\u001b[1;33m.\u001b[0m\u001b[0mauthor\u001b[0m \u001b[1;33m=\u001b[0m \u001b[0mauthor\u001b[0m\u001b[1;33m\u001b[0m\u001b[1;33m\u001b[0m\u001b[0m\n",
            "\u001b[1;31mValueError\u001b[0m: "
          ]
        }
      ]
    }
  ]
}