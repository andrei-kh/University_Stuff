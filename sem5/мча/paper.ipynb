{
 "cells": [
  {
   "cell_type": "code",
   "execution_count": 1,
   "metadata": {},
   "outputs": [],
   "source": [
    "from IPython.display import display, Math, Latex"
   ]
  },
  {
   "cell_type": "markdown",
   "metadata": {},
   "source": [
    "# Задание 1"
   ]
  },
  {
   "cell_type": "code",
   "execution_count": null,
   "metadata": {},
   "outputs": [],
   "source": [
    "def f(t, y):\n",
    "    return round(y - 2 * t / y, 3)\n",
    "\n",
    "\n",
    "n = 5\n",
    "h = 0.2\n",
    "\n",
    "t = [0]\n",
    "y = [1]\n",
    "y_mem = [1]\n",
    "\n",
    "for i in range(n):\n",
    "    print(f\"Iteration number is {i}\")\n",
    "    f_val = f(t[i], y[i])\n",
    "    # display(Math(f\"f(t_{i}, y_{i}) = f({t[i]}, {y[i]}) =  = {f_val}\"))\n",
    "\n",
    "    y_mem.append(round(y[i] + h * f_val, 3))\n",
    "    display(\n",
    "        Math(\n",
    "            f\"\\\\widetilde{{y}}_{{{i + 1}}} = {y[i]} + {h} \\\\cdot ({y[i]} - \\\\frac{{{2 * t[i]}}}{{{y[i]}}}) = {y[i]} + {h} \\\\cdot {f_val} = {y_mem[i + 1]}\"))\n",
    "\n",
    "    y.append(round(y[i] + h / 2 * (f(t[i], y[i]) + f(t[i], y_mem[i + 1])), 3))\n",
    "    display(\n",
    "        Math(\n",
    "            f\"y_{{{i + 1}}} = {y[i]} + {h / 2}({f(t[i], y[i])} + {y_mem[i + 1]} - \\\\frac{{{2 * t[i]}}}{{{y_mem[i + 1]}}}) = {y[i]} + {h / 2}({f(t[i], y[i]) + f(t[i], y_mem[i + 1])}) = {y[i + 1]}\"))\n",
    "    t.append(round(t[i] + h, 3))\n"
   ]
  },
  {
   "cell_type": "markdown",
   "metadata": {},
   "source": []
  },
  {
   "cell_type": "markdown",
   "metadata": {},
   "source": [
    "# Задание 2"
   ]
  },
  {
   "cell_type": "code",
   "execution_count": null,
   "metadata": {},
   "outputs": [],
   "source": [
    "def count(a2, a3):\n",
    "    sig2 = round((3 * a3 - 2) / (6 * a2 * (a3 - a2)), 3)\n",
    "    sig3 = round((2 - 3 * a2) / (6 * a3 * (a3 - a2)), 3)\n",
    "\n",
    "    sig1 = 1 - sig2 - sig3\n",
    "\n",
    "    display(Math(f\"\\\\sigma_2=\\\\frac{{{3 * a3} - 2}}{{{6 * a2}({a3-a2})}} = {sig2}\"))\n",
    "    display(Math(f\"\\\\sigma_3=\\\\frac{{2 - {3 * a2}}}{{{6 * a3}({a3-a2})}} = {sig3}\"))\n",
    "    display(Math(f\"\\\\sigma_1 + \\\\sigma_2 + \\\\sigma_3 = 1 => \\\\sigma_1 = {sig1} \"))\n",
    "\n",
    "    display(Math(f\"y_{{n+1}}=y_n + \\\\tau ({sig1}k_1 + {sig2}k_2 + {sig3}k_3)\"))\n",
    "    display((Math(\"k_1=f(t_n, y_n)\")))\n",
    "    display((Math(f\"k_2=f(t_n + {a2} \\\\tau, y_n + {a2} \\\\tau k_1)\")))\n",
    "\n",
    "    try:\n",
    "        display((Math(f\"k_3=f(t_n + {a3} \\\\tau, y_n + {a3 - 1 / (6 * sig3 * a2)} \\\\tau k_1 + {1/(6 * sig3 * a2)}k_2 \\\\tau)\")))\n",
    "    except ZeroDivisionError:\n",
    "        display(Math(\"Спасибо\\\\_за\\\\_деление\\\\_на\\\\_ноль\\\\_наверн.\"))\n",
    "\n",
    "\n",
    "count(1 / 3, 2 / 3)\n",
    "count(2 / 3, 1)"
   ]
  },
  {
   "cell_type": "markdown",
   "metadata": {},
   "source": [
    "# Задание 3"
   ]
  },
  {
   "cell_type": "code",
   "execution_count": null,
   "metadata": {},
   "outputs": [],
   "source": [
    "def f(t, y):\n",
    "    return -t * t + 2 * y + 1\n",
    "\n",
    "h = 0.1\n",
    "y = [1]\n",
    "t = [0]\n",
    "\n",
    "for i in range(3):\n",
    "    print(f\"Iteration number is {i}\")\n",
    "    k1 = round(f(t[i], y[i]), 3)\n",
    "    display(Math(f\"k_1 = f({t[i]}, {y[i]}) = {k1}\"))\n",
    "\n",
    "    k2 = round(f(t[i] + h / 2, y[i] + h / 2 * k1), 3)\n",
    "    display(Math(f\"k_2 = f({round(t[i] + h / 2, 3)}, {round(y[i] + h / 2 * k1, 3)}) = {k2}\"))\n",
    "\n",
    "    k3 = round(f(t[i] + h / 2, y[i] + h / 2 * k2), 3)\n",
    "    display(Math(f\"k_2 = f({round(t[i] + h / 2, 3)}, {round(y[i] + h / 2 * k2, 3)}) = {k3}\"))\n",
    "\n",
    "    k4 = round(f(t[i] + h, y[i] + h * k3), 3)\n",
    "    display(Math(f\"k_2 = f({round(t[i] + h , 3)}, {round(y[i] + h * k3, 3)}) = {k4}\"))\n",
    "\n",
    "    y.append(round(y[i] + h / 6 * (k1 + 2 * k2 + 2 * k3 + k4), 3))\n",
    "    display(Math(f\"y_{i + 1} = {y[i]} + \\\\frac{{{h}}}{{6}} ({k1} + {2 * k2} + {2 * k3} + {k4}) = {y[i + 1]}\"))\n",
    "\n",
    "    t.append(t[i] + h)"
   ]
  },
  {
   "cell_type": "markdown",
   "metadata": {},
   "source": [
    "# Задание 4\n"
   ]
  },
  {
   "cell_type": "code",
   "execution_count": null,
   "metadata": {},
   "outputs": [],
   "source": [
    "def make_systems(m, p):\n",
    "    res = [[1 for i in range(m + 1)]]\n",
    "\n",
    "    for l in range(2, p + 1):\n",
    "        resl = [k ** (l - 1) for k in range(1, m + 1)]\n",
    "        resl.append((1, l))\n",
    "        res.append(resl)\n",
    "    \n",
    "    return res\n",
    "\n",
    "res3 = make_systems(3, 3)\n",
    "res4 = make_systems(4, 4)\n",
    "\n",
    "for r in res3:\n",
    "    print(r)\n",
    "print()\n",
    "for r in res4:\n",
    "    print(r)\n"
   ]
  }
 ],
 "metadata": {
  "interpreter": {
   "hash": "475c6d7c2eb1b174dd5de4c4ff6132ce737dc3dae23624ac47e7637ff01c8d4e"
  },
  "kernelspec": {
   "display_name": "Python 3.8.5 64-bit",
   "name": "python3"
  },
  "language_info": {
   "codemirror_mode": {
    "name": "ipython",
    "version": 3
   },
   "file_extension": ".py",
   "mimetype": "text/x-python",
   "name": "python",
   "nbconvert_exporter": "python",
   "pygments_lexer": "ipython3",
   "version": "3.8.5"
  },
  "orig_nbformat": 4
 },
 "nbformat": 4,
 "nbformat_minor": 2
}
