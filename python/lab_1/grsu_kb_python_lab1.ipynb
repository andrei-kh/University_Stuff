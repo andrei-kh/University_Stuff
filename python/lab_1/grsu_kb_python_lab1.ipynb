{
  "nbformat": 4,
  "nbformat_minor": 0,
  "metadata": {
    "kernelspec": {
      "display_name": "Python 3.8.5 32-bit",
      "language": "python",
      "name": "python_defaultSpec_1600329056572"
    },
    "language_info": {
      "codemirror_mode": {
        "name": "ipython",
        "version": 3
      },
      "file_extension": ".py",
      "mimetype": "text/x-python",
      "name": "python",
      "nbconvert_exporter": "python",
      "pygments_lexer": "ipython3",
      "version": "3.8.5-final"
    },
    "name": "seminar1_python_intro_tools.ipynb",
    "colab": {
      "name": "grsu_kb_python_lab1.ipynb",
      "provenance": [],
      "collapsed_sections": []
    }
  },
  "cells": [
    {
      "cell_type": "markdown",
      "metadata": {
        "id": "0jkP-fA_fXPW",
        "colab_type": "text"
      },
      "source": [
        "# Лабораторная работа 1. Основы языка Python"
      ]
    },
    {
      "cell_type": "code",
      "metadata": {
        "id": "kmQTtIvWfXPY",
        "colab_type": "code",
        "colab": {}
      },
      "source": [
        "# Python 2 and 3 compatibility\n",
        "# pip install future\n",
        "from __future__ import (absolute_import, division,\n",
        "                        print_function, unicode_literals)\n",
        "from builtins import *"
      ],
      "execution_count": null,
      "outputs": []
    },
    {
      "cell_type": "markdown",
      "metadata": {
        "id": "gKXJb-2tfXPa",
        "colab_type": "text"
      },
      "source": [
        "## Задача 1\n",
        "Вычислите $2^{179}$. Выведите на экран вычисленное значение."
      ]
    },
    {
      "cell_type": "code",
      "metadata": {
        "id": "OufoWaV6fXPb",
        "colab_type": "code",
        "colab": {
          "base_uri": "https://localhost:8080/",
          "height": 34
        },
        "outputId": "62f98007-8633-4128-c6ef-246c85120e67"
      },
      "source": [
        "print(2**179)\n"
      ],
      "execution_count": 1,
      "outputs": [
        {
          "output_type": "stream",
          "text": [
            "766247770432944429179173513575154591809369561091801088\n"
          ],
          "name": "stdout"
        }
      ]
    },
    {
      "cell_type": "markdown",
      "metadata": {
        "id": "lIF2viAIfXPd",
        "colab_type": "text"
      },
      "source": [
        "## Задача 2\n",
        "Вычислите 20!. Выведите на экран вычисленное значение."
      ]
    },
    {
      "cell_type": "code",
      "metadata": {
        "id": "vvJzzIrifXPd",
        "colab_type": "code",
        "tags": [],
        "colab": {
          "base_uri": "https://localhost:8080/",
          "height": 34
        },
        "outputId": "6aaac165-220a-4d5b-ce1e-e3b91dd12742"
      },
      "source": [
        "import math\n",
        "\n",
        "print(math.factorial(20))"
      ],
      "execution_count": 2,
      "outputs": [
        {
          "output_type": "stream",
          "text": [
            "2432902008176640000\n"
          ],
          "name": "stdout"
        }
      ]
    },
    {
      "cell_type": "markdown",
      "metadata": {
        "id": "yQ5H7ZT8fXPf",
        "colab_type": "text"
      },
      "source": [
        "## Задача 3\n",
        "Вычислите длину гипотенузы в прямоугольном треугольнике со сторонами 179 и 971."
      ]
    },
    {
      "cell_type": "code",
      "metadata": {
        "id": "FmN4RQEGfXPg",
        "colab_type": "code",
        "tags": [],
        "colab": {
          "base_uri": "https://localhost:8080/",
          "height": 34
        },
        "outputId": "843ceb5e-6439-44d1-fdec-c3103928e9c6"
      },
      "source": [
        "import math\n",
        "\n",
        "print(math.sqrt(179 ** 2 + 971 ** 2))"
      ],
      "execution_count": 3,
      "outputs": [
        {
          "output_type": "stream",
          "text": [
            "987.361129475938\n"
          ],
          "name": "stdout"
        }
      ]
    },
    {
      "cell_type": "markdown",
      "metadata": {
        "id": "rCY85e6YfXPi",
        "colab_type": "text"
      },
      "source": [
        "## Задача 4\n",
        "Запишите букву 'A' (латинскую, заглавную) 100 раз подряд. Сдайте на проверку программу, которая выводит эту строчку (только буквы, без кавычек)."
      ]
    },
    {
      "cell_type": "code",
      "metadata": {
        "id": "8gDtlnfPfXPi",
        "colab_type": "code",
        "tags": [],
        "colab": {
          "base_uri": "https://localhost:8080/",
          "height": 34
        },
        "outputId": "52682f44-fc4a-44b0-e67b-25410f46371d"
      },
      "source": [
        " print('A' * 100)"
      ],
      "execution_count": 4,
      "outputs": [
        {
          "output_type": "stream",
          "text": [
            "AAAAAAAAAAAAAAAAAAAAAAAAAAAAAAAAAAAAAAAAAAAAAAAAAAAAAAAAAAAAAAAAAAAAAAAAAAAAAAAAAAAAAAAAAAAAAAAAAAAA\n"
          ],
          "name": "stdout"
        }
      ]
    },
    {
      "cell_type": "markdown",
      "metadata": {
        "id": "IgaBUPHSfXPk",
        "colab_type": "text"
      },
      "source": [
        "## Задача 5\n",
        "Даны два целых числа. Выведите значение наибольшего из них."
      ]
    },
    {
      "cell_type": "code",
      "metadata": {
        "id": "dqQEbcv7fXPk",
        "colab_type": "code",
        "tags": [],
        "colab": {
          "base_uri": "https://localhost:8080/",
          "height": 34
        },
        "outputId": "be989212-7ad8-44eb-90fe-9cbf37dbe3fd"
      },
      "source": [
        "def task_5(a, b):\n",
        "    print(a if a > b else b)\n",
        "\n",
        "\n",
        "task_5(67, 68)    "
      ],
      "execution_count": 5,
      "outputs": [
        {
          "output_type": "stream",
          "text": [
            "68\n"
          ],
          "name": "stdout"
        }
      ]
    },
    {
      "cell_type": "markdown",
      "metadata": {
        "id": "r7JgxDDcfXPo",
        "colab_type": "text"
      },
      "source": [
        "## Задача 6\n",
        "Даны два целых числа. Программа должна вывести число 1, если первое число больше второго, число 2, если второе больше первого или число 0, если они равны."
      ]
    },
    {
      "cell_type": "code",
      "metadata": {
        "id": "qpHt8Y5rfXPp",
        "colab_type": "code",
        "tags": [],
        "colab": {
          "base_uri": "https://localhost:8080/",
          "height": 67
        },
        "outputId": "9cc693ac-3e7d-4b76-c847-bdede8adaa7e"
      },
      "source": [
        "def task_6(a, b):\n",
        "    print(1 if a > b else 2 if a < b else 0)\n",
        "\n",
        "\n",
        "task_6(1, 2)\n",
        "task_6(3, 2)\n",
        "task_6(2, 2)"
      ],
      "execution_count": 6,
      "outputs": [
        {
          "output_type": "stream",
          "text": [
            "2\n",
            "1\n",
            "0\n"
          ],
          "name": "stdout"
        }
      ]
    },
    {
      "cell_type": "markdown",
      "metadata": {
        "id": "kkKMZwXKfXPs",
        "colab_type": "text"
      },
      "source": [
        "## Задача 7\n",
        "Число 179 записали 50 раз подряд. Полученное 150-значное число возвели в квадрат. Сколько получилось?"
      ]
    },
    {
      "cell_type": "code",
      "metadata": {
        "id": "ioXiTvBwfXPs",
        "colab_type": "code",
        "tags": [],
        "colab": {
          "base_uri": "https://localhost:8080/",
          "height": 54
        },
        "outputId": "861020fa-2679-4e5f-fd95-a587ba3bf2ad"
      },
      "source": [
        "print(int('179' * 50) ** 2)"
      ],
      "execution_count": 7,
      "outputs": [
        {
          "output_type": "stream",
          "text": [
            "32105178251324397470543616689762835908982055128201274347420493566639712785858932005078151224297370443516589662735808881955028101174247320393466539612621548475402329256183110036963890817744671598525452379306233160087013940867794721648575502429356283210137063990917844771698625552479406333260187114041\n"
          ],
          "name": "stdout"
        }
      ]
    },
    {
      "cell_type": "markdown",
      "metadata": {
        "id": "3f2oy7YufXPu",
        "colab_type": "text"
      },
      "source": [
        "## Задача 8\n",
        "Дано два числа a и b. Выведите гипотенузу треугольника с заданными катетами."
      ]
    },
    {
      "cell_type": "code",
      "metadata": {
        "collapsed": true,
        "id": "xUxUq72GfXPv",
        "colab_type": "code",
        "tags": [],
        "colab": {
          "base_uri": "https://localhost:8080/",
          "height": 67
        },
        "outputId": "c3b06c25-a6d9-44b8-9ae4-fe6a5c8cbb6c"
      },
      "source": [
        "import math\n",
        "\n",
        "def task_8(a, b):\n",
        "    print(math.hypot(a, b))\n",
        "\n",
        "\n",
        "task_8(5, 12)\n",
        "task_8(6, 8)\n",
        "task_8(3, 4)"
      ],
      "execution_count": 8,
      "outputs": [
        {
          "output_type": "stream",
          "text": [
            "13.0\n",
            "10.0\n",
            "5.0\n"
          ],
          "name": "stdout"
        }
      ]
    },
    {
      "cell_type": "markdown",
      "metadata": {
        "id": "VtMNit_PfXPx",
        "colab_type": "text"
      },
      "source": [
        "## Задача 9\n",
        "Даны три целых числа. Найдите наибольшее из них (программа должна вывести ровно одно целое число).\n",
        "Какое наименьшее число операторов сравнения (>, <, >=, <=) необходимо для решения этой задачи?"
      ]
    },
    {
      "cell_type": "code",
      "metadata": {
        "id": "sTKlu6BmfXPy",
        "colab_type": "code",
        "tags": [],
        "colab": {
          "base_uri": "https://localhost:8080/",
          "height": 50
        },
        "outputId": "a8643e83-0db6-46dd-b32a-65f1615c9e44"
      },
      "source": [
        "def task_9(a, b, c):\n",
        "    print(max(a, b, c))\n",
        "\n",
        "\n",
        "task_9(1, 2, 3)\n",
        "task_9(5, 2, 3)"
      ],
      "execution_count": 9,
      "outputs": [
        {
          "output_type": "stream",
          "text": [
            "3\n",
            "5\n"
          ],
          "name": "stdout"
        }
      ]
    },
    {
      "cell_type": "markdown",
      "metadata": {
        "id": "-stShzucfXPz",
        "colab_type": "text"
      },
      "source": [
        "## Задача 10\n",
        "Даны три натуральных числа a, b, c. Определите, существует ли треугольник с такими сторонами. Если треугольник существует, выведите строку YES, иначе выведите строку NO.\n",
        "Треугольник — это три точки, не лежащие на одной прямой."
      ]
    },
    {
      "cell_type": "code",
      "metadata": {
        "id": "km5eT6KAfXP0",
        "colab_type": "code",
        "tags": [],
        "colab": {
          "base_uri": "https://localhost:8080/",
          "height": 50
        },
        "outputId": "b2f0bfe5-9de7-4f35-a473-dc6de04567c0"
      },
      "source": [
        "def task_10(a, b, c):\n",
        "    if a + b > c and a + c > b and b + c > a:\n",
        "        print('YES')\n",
        "    else:\n",
        "        print('NO')\n",
        "\n",
        "\n",
        "task_10(1, 2, 3)\n",
        "task_10(4, 2, 3)"
      ],
      "execution_count": 10,
      "outputs": [
        {
          "output_type": "stream",
          "text": [
            "NO\n",
            "YES\n"
          ],
          "name": "stdout"
        }
      ]
    },
    {
      "cell_type": "markdown",
      "metadata": {
        "id": "ufqnXBz5fXP2",
        "colab_type": "text"
      },
      "source": [
        "## Задача 11\n",
        "Шахматная ладья ходит по горизонтали или вертикали. Даны две различные клетки шахматной доски, определите, может ли ладья попасть с первой клетки на вторую одним ходом."
      ]
    },
    {
      "cell_type": "code",
      "metadata": {
        "id": "66n4qjJYfXP2",
        "colab_type": "code",
        "tags": [],
        "colab": {
          "base_uri": "https://localhost:8080/",
          "height": 50
        },
        "outputId": "8fd5a443-371f-4035-bcca-edeb75da561d"
      },
      "source": [
        "def task_11(x1, y1, x2, y2):\n",
        "    if x1 == x2 or y1 == y2:\n",
        "        print('Yes')\n",
        "    else:\n",
        "        print('NO')\n",
        "\n",
        "\n",
        "task_11(1, 1, 5, 1)\n",
        "task_11(0, 0, 11, 12)"
      ],
      "execution_count": 11,
      "outputs": [
        {
          "output_type": "stream",
          "text": [
            "Yes\n",
            "NO\n"
          ],
          "name": "stdout"
        }
      ]
    },
    {
      "cell_type": "markdown",
      "metadata": {
        "id": "cCLBc4WzfXP4",
        "colab_type": "text"
      },
      "source": [
        "## Задача 12\n",
        "Число $179^{10}$ записали четыре раза подряд. Из получившегося числа извлекли корень степени 10. Сколько получилось?"
      ]
    },
    {
      "cell_type": "code",
      "metadata": {
        "id": "Fio0Z4RufXP4",
        "colab_type": "code",
        "tags": [],
        "colab": {
          "base_uri": "https://localhost:8080/",
          "height": 34
        },
        "outputId": "312ffc99-149c-486d-93b2-872495278afa"
      },
      "source": [
        "print(int(str(179 ** 10) * 4) ** .1)"
      ],
      "execution_count": 12,
      "outputs": [
        {
          "output_type": "stream",
          "text": [
            "1421847540.1564655\n"
          ],
          "name": "stdout"
        }
      ]
    },
    {
      "cell_type": "markdown",
      "metadata": {
        "id": "O2F7lwwlfXP6",
        "colab_type": "text"
      },
      "source": [
        "## Задача 13\n",
        "Дано натуральное число. Требуется определить, является ли год с данным номером високосным. Если год является високосным, то выведите YES, иначе выведите NO. Напомним, что в соответствии с григорианским календарем, год является високосным, если его номер кратен 4, но не кратен 100, а также если он кратен 400."
      ]
    },
    {
      "cell_type": "code",
      "metadata": {
        "id": "CMOk_iXOfXP7",
        "colab_type": "code",
        "tags": [],
        "colab": {
          "base_uri": "https://localhost:8080/",
          "height": 84
        },
        "outputId": "f727c9db-40b8-4d19-dcf4-29f5d8693168"
      },
      "source": [
        "def task_13(a):\n",
        "    print('YES' if (not(a % 4) and a % 100) or not(a % 400) else 'NO')\n",
        "\n",
        "\n",
        "task_13(1900)\n",
        "task_13(2000)\n",
        "task_13(1961)\n",
        "task_13(1964)"
      ],
      "execution_count": 13,
      "outputs": [
        {
          "output_type": "stream",
          "text": [
            "NO\n",
            "YES\n",
            "NO\n",
            "YES\n"
          ],
          "name": "stdout"
        }
      ]
    },
    {
      "cell_type": "markdown",
      "metadata": {
        "id": "QMka1Ml2fXP8",
        "colab_type": "text"
      },
      "source": [
        "## Задача 14\n",
        "Шахматный конь ходит буквой “Г” — на две клетки по вертикали в любом направлении и на одну клетку по горизонтали, или наоборот. Даны две различные клетки шахматной доски, определите, может ли конь попасть с первой клетки на вторую одним ходом."
      ]
    },
    {
      "cell_type": "code",
      "metadata": {
        "id": "_fWC6v_2fXP9",
        "colab_type": "code",
        "tags": [],
        "colab": {
          "base_uri": "https://localhost:8080/",
          "height": 50
        },
        "outputId": "eae261bd-9b9b-4fc6-b249-1518fb2adeaa"
      },
      "source": [
        "def task_14(x1, y1, x2, y2):\n",
        "    dx = abs(x1 - x2)\n",
        "    dy = abs(y1 - y2)\n",
        "\n",
        "    print('YES' if dx == 1 and dy == 2 or dx == 2 and dy == 1 else 'NO')\n",
        "\n",
        "\n",
        "task_14(1, 1, 2, 2)\n",
        "task_14(1, 1, 3, 2)"
      ],
      "execution_count": 14,
      "outputs": [
        {
          "output_type": "stream",
          "text": [
            "NO\n",
            "YES\n"
          ],
          "name": "stdout"
        }
      ]
    },
    {
      "cell_type": "markdown",
      "metadata": {
        "id": "Le7_8_e9fXP_",
        "colab_type": "text"
      },
      "source": [
        "## Задача 15\n",
        "Даны два целых числа A и B (при этом A $\\leq$ B). Выведите все числа от A до B включительно."
      ]
    },
    {
      "cell_type": "code",
      "metadata": {
        "id": "HSgjnoaQfXP_",
        "colab_type": "code",
        "tags": [],
        "colab": {
          "base_uri": "https://localhost:8080/",
          "height": 34
        },
        "outputId": "f7b8e8aa-06d8-498c-8988-06f6bce7a21b"
      },
      "source": [
        "def task_15(A, B):\n",
        "    for i in range(A, B + 1):\n",
        "        print(i, end=' ')\n",
        "\n",
        "task_15(1, 20)"
      ],
      "execution_count": 15,
      "outputs": [
        {
          "output_type": "stream",
          "text": [
            "1 2 3 4 5 6 7 8 9 10 11 12 13 14 15 16 17 18 19 20 "
          ],
          "name": "stdout"
        }
      ]
    },
    {
      "cell_type": "markdown",
      "metadata": {
        "id": "HJTx406afXQB",
        "colab_type": "text"
      },
      "source": [
        "## Задача 16\n",
        "По данному натуральном n вычислите сумму $1^2+2^2+3^2+ \\ldots +n^2$."
      ]
    },
    {
      "cell_type": "code",
      "metadata": {
        "id": "mjr5XwjdfXQB",
        "colab_type": "code",
        "tags": [],
        "colab": {
          "base_uri": "https://localhost:8080/",
          "height": 34
        },
        "outputId": "e3bc85e0-fd83-48be-9ff3-0ed50b9e84a2"
      },
      "source": [
        "def task_16(n):\n",
        "    print(n * (n + 1) * (2 * n + 1) / 6)\n",
        "\n",
        "\n",
        "task_16(10)"
      ],
      "execution_count": 16,
      "outputs": [
        {
          "output_type": "stream",
          "text": [
            "385.0\n"
          ],
          "name": "stdout"
        }
      ]
    },
    {
      "cell_type": "markdown",
      "metadata": {
        "id": "PWchj9qNfXQD",
        "colab_type": "text"
      },
      "source": [
        "## Задача 17\n",
        "По данному целому неотрицательному n вычислите значение n!."
      ]
    },
    {
      "cell_type": "code",
      "metadata": {
        "id": "Z4v8n3ZifXQD",
        "colab_type": "code",
        "tags": [],
        "colab": {
          "base_uri": "https://localhost:8080/",
          "height": 34
        },
        "outputId": "13d20b53-b488-4955-e1ce-b37ea8dce3a3"
      },
      "source": [
        "def task_17(n):\n",
        "    print(math.factorial(n))\n",
        "\n",
        "\n",
        "task_17(10)"
      ],
      "execution_count": 17,
      "outputs": [
        {
          "output_type": "stream",
          "text": [
            "3628800\n"
          ],
          "name": "stdout"
        }
      ]
    },
    {
      "cell_type": "markdown",
      "metadata": {
        "id": "7_Q6tlSUfXQF",
        "colab_type": "text"
      },
      "source": [
        "## Задача 18\n",
        "По данным целым неотрицательным n и k вычислите значение числа сочетаний из n элементов по k, то есть $\\frac{n!}{k!(n-k)!}$."
      ]
    },
    {
      "cell_type": "code",
      "metadata": {
        "id": "7c0wCcVcfXQF",
        "colab_type": "code",
        "tags": [],
        "colab": {
          "base_uri": "https://localhost:8080/",
          "height": 50
        },
        "outputId": "ff9c8fcc-680b-427a-c15b-59d9a3879d41"
      },
      "source": [
        "import math\n",
        "\n",
        "def task_18(n, k):\n",
        "    if n >= k:\n",
        "        print(math.factorial(n) / (math.factorial(k) * math.factorial(n - k)))\n",
        "    else:\n",
        "        print('n must be greater or equal to k')\n",
        "\n",
        "\n",
        "task_18(10, 12)\n",
        "task_18(15, 12)"
      ],
      "execution_count": 18,
      "outputs": [
        {
          "output_type": "stream",
          "text": [
            "n must be greater or equal to k\n",
            "455.0\n"
          ],
          "name": "stdout"
        }
      ]
    },
    {
      "cell_type": "markdown",
      "metadata": {
        "id": "ljUuu2G3fXQH",
        "colab_type": "text"
      },
      "source": [
        "## Задача 19\n",
        "Напишите программу, которая по данному числу n от 1 до 9 выводит на экран n пингвинов. Изображение одного пингвина имеет размер 5×9 символов, между двумя соседними пингвинами также имеется пустой (из пробелов) столбец. Разрешается вывести пустой столбец после последнего пингвина. Для упрощения рисования скопируйте пингвина из примера в среду разработки.\n",
        "\n"
      ]
    },
    {
      "cell_type": "code",
      "metadata": {
        "id": "iv7vs259fXQI",
        "colab_type": "code",
        "colab": {}
      },
      "source": [
        "penguine = [\"   _~_    \",\n",
        "            \"  (o o)   \",\n",
        "            \" /  V  \\ \",\n",
        "            \"/(  _  )\\ \",\n",
        "            \"  ^^ ^^   \"]"
      ],
      "execution_count": 19,
      "outputs": []
    },
    {
      "cell_type": "code",
      "metadata": {
        "id": "9lbZqrRCfXQK",
        "colab_type": "code",
        "tags": [],
        "colab": {
          "base_uri": "https://localhost:8080/",
          "height": 101
        },
        "outputId": "48c8d958-7ebc-442d-9d5c-962de9f0644c"
      },
      "source": [
        "def task_19(n):\n",
        "    penguine = [\"   _~_    \",\n",
        "                \"  (o o)   \",\n",
        "                \" /  V  \\  \",\n",
        "                \"/(  _  )\\ \",\n",
        "                \"  ^^ ^^   \"]\n",
        "\n",
        "    if n < 1 or n > 9:\n",
        "        print('Invalid n')\n",
        "    else:\n",
        "        for i in range(0, len(penguine)):\n",
        "            print(penguine[i] * n)\n",
        "\n",
        "\n",
        "task_19(5)"
      ],
      "execution_count": 1,
      "outputs": [
        {
          "output_type": "stream",
          "name": "stdout",
          "text": "_~_       _~_       _~_       _~_       _~_    \n  (o o)     (o o)     (o o)     (o o)     (o o)   \n /  V  \\   /  V  \\   /  V  \\   /  V  \\   /  V  \\  \n/(  _  )\\ /(  _  )\\ /(  _  )\\ /(  _  )\\ /(  _  )\\ \n  ^^ ^^     ^^ ^^     ^^ ^^     ^^ ^^     ^^ ^^   \n"
        }
      ]
    },
    {
      "cell_type": "markdown",
      "metadata": {
        "collapsed": true,
        "id": "Ofad8qp2fXQM",
        "colab_type": "text"
      },
      "source": [
        "## Задача 20\n",
        "Шоколадка имеет вид прямоугольника, разделенного на n×m долек. Шоколадку можно один раз разломить по прямой на две части. Определите, можно ли таким образом отломить от шоколадки ровно k долек."
      ]
    },
    {
      "cell_type": "code",
      "metadata": {
        "id": "RqSI4gPjfXQN",
        "colab_type": "code",
        "colab": {
          "base_uri": "https://localhost:8080/",
          "height": 50
        },
        "outputId": "cf7ed109-b1af-4248-af96-80a5b7d0fe81"
      },
      "source": [
        "def task_20(n, m, k):\n",
        "    print('YES' if n * m > k and (not(k % n) or not(k % m)) else 'No')\n",
        "\n",
        "\n",
        "task_20(2, 3, 2)\n",
        "task_20(2, 3, 5)"
      ],
      "execution_count": 21,
      "outputs": [
        {
          "output_type": "stream",
          "text": [
            "YES\n",
            "No\n"
          ],
          "name": "stdout"
        }
      ]
    },
    {
      "cell_type": "markdown",
      "metadata": {
        "id": "8jS3JoGafXQP",
        "colab_type": "text"
      },
      "source": [
        "## Задача 21\n",
        "Дано линейное уравнение $ax + b = 0$. Решите уравнение, напечатайте ответ. Если ответов бесконечно много, выведите \"INF\", если их нет - \"NO\"."
      ]
    },
    {
      "cell_type": "code",
      "metadata": {
        "id": "C6PO18O0fXQP",
        "colab_type": "code",
        "colab": {
          "base_uri": "https://localhost:8080/",
          "height": 84
        },
        "outputId": "f554443d-8491-4f25-8448-7222eff6d094"
      },
      "source": [
        "def task_21(a, b):\n",
        "    print('INF' if not(a) and not(b) else 'NO' if not(a) and b else -b / a)\n",
        "\n",
        "\n",
        "task_21(1, 1)\n",
        "task_21(5, 12)\n",
        "task_21(0, 12)\n",
        "task_21(0, 0)"
      ],
      "execution_count": 22,
      "outputs": [
        {
          "output_type": "stream",
          "text": [
            "-1.0\n",
            "-2.4\n",
            "NO\n",
            "INF\n"
          ],
          "name": "stdout"
        }
      ]
    },
    {
      "cell_type": "markdown",
      "metadata": {
        "id": "Hk3EngqCfXQV",
        "colab_type": "text"
      },
      "source": [
        "## Задача 22\n",
        "Квадрат трехзначного числа оканчивается тремя цифрами, равными этому числу. Найдите и выведите все такие числа."
      ]
    },
    {
      "cell_type": "code",
      "metadata": {
        "id": "R3w4GyqLfXQV",
        "colab_type": "code",
        "colab": {
          "base_uri": "https://localhost:8080/",
          "height": 50
        },
        "outputId": "bc980829-8a09-493e-c256-f75c918ac1aa"
      },
      "source": [
        "for i in range(100, 1000):\n",
        "        if(i ** 2 % 1000 == i):\n",
        "            print(i)"
      ],
      "execution_count": 23,
      "outputs": [
        {
          "output_type": "stream",
          "text": [
            "376\n",
            "625\n"
          ],
          "name": "stdout"
        }
      ]
    },
    {
      "cell_type": "markdown",
      "metadata": {
        "id": "TtcMcQU3fXQX",
        "colab_type": "text"
      },
      "source": [
        "## Задача 23\n",
        "По данному натуральному $n \\leq 9$ выведите лесенку из n ступенек, i-я ступенька состоит из чисел от 1 до i без пробелов."
      ]
    },
    {
      "cell_type": "code",
      "metadata": {
        "id": "1Wl_2fIlfXQX",
        "colab_type": "code",
        "colab": {
          "base_uri": "https://localhost:8080/",
          "height": 118
        },
        "outputId": "e98b8947-a075-499f-d721-39689cfa3ea7"
      },
      "source": [
        "def task_23(n):\n",
        "    if n > 9:\n",
        "        print('Invalid n')\n",
        "    else:\n",
        "        for i in range(1, n + 1):\n",
        "            for j in range(1, i + 1):\n",
        "                print(j, end='')\n",
        "            print()\n",
        "\n",
        "\n",
        "task_23(6)"
      ],
      "execution_count": 24,
      "outputs": [
        {
          "output_type": "stream",
          "text": [
            "1\n",
            "12\n",
            "123\n",
            "1234\n",
            "12345\n",
            "123456\n"
          ],
          "name": "stdout"
        }
      ]
    },
    {
      "cell_type": "markdown",
      "metadata": {
        "id": "bZbZzvYefXQZ",
        "colab_type": "text"
      },
      "source": [
        "## Задача 24\n",
        "Дано три числа. Упорядочите их в порядке неубывания. Программа должна считывать три числа a, b, c, затем программа должна менять их значения так, чтобы стали выполнены условия $a \\leq b \\leq c$, затем программа выводит тройку a, b, c."
      ]
    },
    {
      "cell_type": "code",
      "metadata": {
        "id": "r81quuqWfXQb",
        "colab_type": "code",
        "colab": {
          "base_uri": "https://localhost:8080/",
          "height": 84
        },
        "outputId": "af7fd080-d1a4-4fb2-f0ec-62496a03bc07"
      },
      "source": [
        "a = int(input())\n",
        "b = int(input())\n",
        "c = int(input())\n",
        "\n",
        "if a > b:\n",
        "    a, b = b, a\n",
        "if b > c:\n",
        "    b, c = c, b\n",
        "if a > b:\n",
        "    a, b = b, a\n",
        "\n",
        "print(a, b, c)"
      ],
      "execution_count": 25,
      "outputs": [
        {
          "output_type": "stream",
          "text": [
            "9\n",
            "2\n",
            "5\n",
            "2 5 9\n"
          ],
          "name": "stdout"
        }
      ]
    },
    {
      "cell_type": "markdown",
      "metadata": {
        "id": "YJDK-AgGfXQd",
        "colab_type": "text"
      },
      "source": [
        "## Задача 25. Сумма факториалов\n",
        "По данному натуральном n вычислите сумму 1! + 2! + 3! + ... +n!. В решении этой задачи можно использовать только один цикл."
      ]
    },
    {
      "cell_type": "code",
      "metadata": {
        "id": "dEf5UG3SfXQe",
        "colab_type": "code",
        "colab": {
          "base_uri": "https://localhost:8080/",
          "height": 34
        },
        "outputId": "e9c6b4e6-2101-4450-d7fa-ede44437591b"
      },
      "source": [
        "import math\n",
        "\n",
        "def task_25(n):\n",
        "    sum = 0\n",
        "\n",
        "    for i in range(1, n + 1):\n",
        "        sum += math.factorial(i)\n",
        "\n",
        "    print(sum)\n",
        "\n",
        "\n",
        "task_25(10)"
      ],
      "execution_count": 26,
      "outputs": [
        {
          "output_type": "stream",
          "text": [
            "4037913\n"
          ],
          "name": "stdout"
        }
      ]
    }
  ]
}